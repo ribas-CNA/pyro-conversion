{
 "cells": [
  {
   "cell_type": "code",
   "execution_count": 54,
   "metadata": {},
   "outputs": [],
   "source": [
    "import numpy as np\n",
    "import scanpy as sc\n",
    "import pandas as pd\n",
    "import scipy.stats as stats\n",
    "import matplotlib.pyplot as plt\n",
    "import random\n",
    "from sklearn.neighbors import KernelDensity\n",
    "import scipy\n",
    "import utils\n",
    "import seaborn as sns\n",
    "import sklearn\n",
    "from sklearn.cluster import KMeans"
   ]
  },
  {
   "cell_type": "code",
   "execution_count": 55,
   "metadata": {},
   "outputs": [],
   "source": [
    "from collections import defaultdict\n",
    "import os\n",
    "import logging"
   ]
  },
  {
   "cell_type": "code",
   "execution_count": 56,
   "metadata": {},
   "outputs": [],
   "source": [
    "import pyro\n",
    "import torch"
   ]
  },
  {
   "cell_type": "code",
   "execution_count": 57,
   "metadata": {},
   "outputs": [],
   "source": [
    "import pyro.distributions as dist\n",
    "from pyro import poutine\n",
    "from pyro.infer.autoguide import AutoDelta\n",
    "from pyro.optim import Adam\n",
    "from pyro.infer import SVI, TraceEnum_ELBO, config_enumerate, infer_discrete"
   ]
  },
  {
   "cell_type": "markdown",
   "metadata": {},
   "source": [
    "Load and test infer data"
   ]
  },
  {
   "cell_type": "code",
   "execution_count": 64,
   "metadata": {},
   "outputs": [
    {
     "name": "stdout",
     "output_type": "stream",
     "text": [
      "N_infer_full_10.16.21  README.md              pyro_gmm.ipynb\r\n",
      "N_ribas310_clones.h5   \u001b[34m__pycache__\u001b[m\u001b[m/           utils.py\r\n"
     ]
    }
   ],
   "source": [
    "ls"
   ]
  },
  {
   "cell_type": "code",
   "execution_count": 65,
   "metadata": {},
   "outputs": [],
   "source": [
    "infer = pd.read_csv(\"N_infer_full_10.16.21\", index_col=0)"
   ]
  },
  {
   "cell_type": "code",
   "execution_count": 6,
   "metadata": {},
   "outputs": [
    {
     "data": {
      "image/png": "[encoded data removed]",
      "text/plain": [
       "<Figure size 432x216 with 1 Axes>"
      ]
     },
     "metadata": {
      "needs_background": "light"
     },
     "output_type": "display_data"
    }
   ],
   "source": [
    "fig = plt.figure(figsize=(6, 3))\n",
    "gene = np.random.choice(infer.columns, size=1)\n",
    "plt.hist(infer[gene])\n",
    "plt.title(\"Distribution of inferCNV values for \" + gene)\n",
    "plt.show()"
   ]
  },
  {
   "cell_type": "markdown",
   "metadata": {},
   "source": [
    "Set macros and things for pyro"
   ]
  },
  {
   "cell_type": "code",
   "execution_count": 66,
   "metadata": {},
   "outputs": [],
   "source": [
    "smoke_test = ('CI' in os.environ)\n",
    "assert pyro.__version__.startswith('1.8.0')\n",
    "\n",
    "pyro.enable_validation(True)\n",
    "pyro.set_rng_seed(1)\n",
    "logging.basicConfig(format='%(message)s', level=logging.INFO)\n",
    "\n",
    "# Set matplotlib settings\n",
    "%matplotlib inline\n",
    "plt.style.use('default')"
   ]
  },
  {
   "cell_type": "markdown",
   "metadata": {},
   "source": [
    "Subsample from adadata and infer "
   ]
  },
  {
   "cell_type": "code",
   "execution_count": 67,
   "metadata": {},
   "outputs": [],
   "source": [
    "adata = sc.read_h5ad(\"N_ribas310_clones.h5\")"
   ]
  },
  {
   "cell_type": "code",
   "execution_count": 68,
   "metadata": {},
   "outputs": [
    {
     "name": "stderr",
     "output_type": "stream",
     "text": [
      "Trying to set attribute `._uns` of view, copying.\n"
     ]
    }
   ],
   "source": [
    "adata_subsampled, infer_subsampled = utils.format_data(adata, infer, 200, 200)"
   ]
  },
  {
   "cell_type": "code",
   "execution_count": 69,
   "metadata": {},
   "outputs": [
    {
     "data": {
      "text/plain": [
       "(800, 200)"
      ]
     },
     "execution_count": 69,
     "metadata": {},
     "output_type": "execute_result"
    }
   ],
   "source": [
    "infer_subsampled.shape"
   ]
  },
  {
   "cell_type": "code",
   "execution_count": 70,
   "metadata": {},
   "outputs": [],
   "source": [
    "infer_sub_tensor = torch.tensor(infer_subsampled)"
   ]
  },
  {
   "cell_type": "code",
   "execution_count": null,
   "metadata": {},
   "outputs": [],
   "source": []
  },
  {
   "cell_type": "code",
   "execution_count": 71,
   "metadata": {},
   "outputs": [],
   "source": [
    "infer_sub_tensor_small = torch.flatten(infer_sub_tensor).to(torch.float)\n",
    "infer_tensor_big =  torch.flatten(torch.tensor(infer.to_numpy())).to(torch.float)"
   ]
  },
  {
   "cell_type": "code",
   "execution_count": 72,
   "metadata": {},
   "outputs": [
    {
     "data": {
      "text/plain": [
       "torch.Size([214211802])"
      ]
     },
     "execution_count": 72,
     "metadata": {},
     "output_type": "execute_result"
    }
   ],
   "source": [
    "infer_tensor_big.shape"
   ]
  },
  {
   "cell_type": "code",
   "execution_count": 529,
   "metadata": {},
   "outputs": [],
   "source": [
    "data= infer_tensor_big[0:len(infer_tensor_big)]"
   ]
  },
  {
   "cell_type": "code",
   "execution_count": 500,
   "metadata": {},
   "outputs": [],
   "source": [
    "data = []\n",
    "\n",
    "for i in range(100000):\n",
    "    test = random.random()\n",
    "    if test < .2:\n",
    "        data.append(.8)\n",
    "    elif test > .8:\n",
    "        data.append(1.3)\n",
    "    else:\n",
    "        data.append(1.01)\n",
    "data = torch.tensor(data)"
   ]
  },
  {
   "cell_type": "code",
   "execution_count": 501,
   "metadata": {},
   "outputs": [
    {
     "data": {
      "text/plain": [
       "torch.Size([100000])"
      ]
     },
     "execution_count": 501,
     "metadata": {},
     "output_type": "execute_result"
    }
   ],
   "source": [
    "data.shape"
   ]
  },
  {
   "cell_type": "code",
   "execution_count": 530,
   "metadata": {},
   "outputs": [],
   "source": [
    "K = 3  \n",
    "\n",
    "@config_enumerate\n",
    "def model(data):\n",
    "\n",
    "\n",
    "    weights = pyro.sample('weights', dist.Dirichlet( torch.ones(K)))\n",
    "\n",
    "    with pyro.plate('components', K):\n",
    "        locs = pyro.sample('locs', dist.Normal(.5, 5.))\n",
    "        scale = pyro.sample('scale', dist.LogNormal(0., 10, dist.constraints.greater_than_eq(0)))\n",
    "\n",
    "    with pyro.plate('data', len(data)):\n",
    "        # Local variables.\n",
    "        \n",
    "        assignment = pyro.sample('assignment', dist.Categorical(weights))\n",
    "        \n",
    "\n",
    "        pyro.sample('obs', dist.Normal(locs[assignment], scale[assignment]), obs=data)"
   ]
  },
  {
   "cell_type": "code",
   "execution_count": 531,
   "metadata": {},
   "outputs": [],
   "source": [
    "optim = pyro.optim.Adam({'lr': 0.0005, 'betas': [0.8, 0.99]})\n",
    "elbo = TraceEnum_ELBO(max_plate_nesting=1)"
   ]
  },
  {
   "cell_type": "code",
   "execution_count": 532,
   "metadata": {},
   "outputs": [
    {
     "name": "stdout",
     "output_type": "stream",
     "text": [
      "seed = 0, initial_loss = 158419248.0\n"
     ]
    }
   ],
   "source": [
    "def init_loc_fn(site):\n",
    "    if site[\"name\"] == \"weights\":\n",
    "        # Initialize weights to uniform.\n",
    "        return torch.ones(K) / K\n",
    "    if site[\"name\"] == \"scale\":\n",
    "        sigma = (data.var())\n",
    "        return torch.tensor([sigma,10*sigma,20*sigma])\n",
    "   #     return torch.tensor([.005,.5,1])\n",
    "    if site[\"name\"] == \"locs\":\n",
    "        return torch.tensor([1.01,.8,1.25])\n",
    "    raise ValueError(site[\"name\"])\n",
    "\n",
    "def initialize(seed):\n",
    "    global global_guide, svi\n",
    "    pyro.set_rng_seed(seed)\n",
    "    pyro.clear_param_store()\n",
    "    global_guide = AutoDelta(poutine.block(model, expose=['weights', 'locs', 'scale']),\n",
    "                             init_loc_fn=init_loc_fn)\n",
    "    svi = SVI(model, global_guide, optim, loss=elbo)\n",
    "    return svi.loss(model, global_guide, data)\n",
    "\n",
    "# Choose the best among 100 random initializations.\n",
    "loss, seed = min((initialize(seed), seed) for seed in range(10))\n",
    "initialize(seed)\n",
    "print('seed = {}, initial_loss = {}'.format(seed, loss))"
   ]
  },
  {
   "cell_type": "code",
   "execution_count": null,
   "metadata": {},
   "outputs": [],
   "source": []
  },
  {
   "cell_type": "code",
   "execution_count": null,
   "metadata": {},
   "outputs": [],
   "source": []
  },
  {
   "cell_type": "code",
   "execution_count": null,
   "metadata": {},
   "outputs": [
    {
     "name": "stdout",
     "output_type": "stream",
     "text": [
      "\n",
      "......................................."
     ]
    }
   ],
   "source": [
    "# Register hooks to monitor gradient norms.\n",
    "gradient_norms = defaultdict(list)\n",
    "for name, value in pyro.get_param_store().named_parameters():\n",
    "    value.register_hook(lambda g, name=name: gradient_norms[name].append(g.norm().item()))\n",
    "\n",
    "losses = []\n",
    "for i in range(20 if not smoke_test else 2):\n",
    "    loss = svi.step(data)\n",
    "    losses.append(loss)\n",
    "    print('.' if i % 100 else '\\n', end='')"
   ]
  },
  {
   "cell_type": "code",
   "execution_count": null,
   "metadata": {},
   "outputs": [],
   "source": [
    "plt.figure(figsize=(10,3), dpi=100).set_facecolor('white')\n",
    "plt.plot(losses)\n",
    "plt.xlabel('iters')\n",
    "plt.ylabel('loss')\n",
    "plt.yscale('log')\n",
    "plt.title('Convergence of SVI');"
   ]
  },
  {
   "cell_type": "code",
   "execution_count": null,
   "metadata": {},
   "outputs": [],
   "source": [
    "map_estimates = global_guide(data)\n",
    "weights = map_estimates['weights']\n",
    "locs = map_estimates['locs']\n",
    "scale = map_estimates['scale']\n",
    "print('weights = {}'.format(weights.data.numpy()))\n",
    "print('locs = {}'.format(locs.data.numpy()))\n",
    "print('scale = {}'.format(scale.data.numpy()))"
   ]
  },
  {
   "cell_type": "code",
   "execution_count": null,
   "metadata": {},
   "outputs": [],
   "source": []
  },
  {
   "cell_type": "code",
   "execution_count": null,
   "metadata": {},
   "outputs": [],
   "source": []
  },
  {
   "cell_type": "code",
   "execution_count": null,
   "metadata": {},
   "outputs": [],
   "source": [
    "X = np.arange(0,2,0.01)\n",
    "Y1 = weights[0].item() * scipy.stats.norm.pdf((X - locs[0].item()) / scale[0].item())\n",
    "Y2 = weights[1].item() * scipy.stats.norm.pdf((X - locs[1].item()) / scale[1].item())\n",
    "Y3 = weights[2].item() * scipy.stats.norm.pdf((X - locs[2].item()) / scale[2].item())\n",
    "\n",
    "plt.figure(figsize=(10, 4), dpi=100).set_facecolor('white')\n",
    "plt.plot(X, Y1, 'r-')\n",
    "plt.plot(X, Y2, 'b-')\n",
    "plt.plot(X, Y3, 'g-')\n",
    "plt.plot(X, Y1 + Y2 + Y3, 'k--')\n",
    "plt.plot(data.data.numpy(), np.zeros(len(data)), 'k*')\n",
    "plt.title('Density of three-component mixture model')\n",
    "plt.ylabel('probability density');"
   ]
  },
  {
   "cell_type": "code",
   "execution_count": null,
   "metadata": {},
   "outputs": [],
   "source": []
  },
  {
   "cell_type": "code",
   "execution_count": null,
   "metadata": {},
   "outputs": [],
   "source": []
  },
  {
   "cell_type": "code",
   "execution_count": 472,
   "metadata": {},
   "outputs": [
    {
     "data": {
      "text/plain": [
       "[322891.875,\n",
       " 260729.796875,\n",
       " 206154.546875,\n",
       " 159432.921875,\n",
       " 120380.0546875,\n",
       " 88698.4765625,\n",
       " 64031.12890625,\n",
       " 45728.3515625,\n",
       " 32981.0859375,\n",
       " 24809.41015625,\n",
       " 20166.55859375,\n",
       " 17953.353515625,\n",
       " 17191.396484375,\n",
       " 17013.990234375,\n",
       " 16785.171875,\n",
       " 16113.3994140625,\n",
       " 14825.7939453125,\n",
       " 12944.576171875,\n",
       " 10590.40625,\n",
       " 7975.26025390625,\n",
       " 5300.9775390625,\n",
       " 2725.7294921875,\n",
       " 370.1162414550781,\n",
       " -1725.2740478515625,\n",
       " -3561.785400390625,\n",
       " -5183.8681640625,\n",
       " -6670.3017578125,\n",
       " -8078.35009765625,\n",
       " -9473.634765625,\n",
       " -10875.421875,\n",
       " -12315.6640625,\n",
       " -13800.3984375,\n",
       " -15280.287109375,\n",
       " -16768.587890625,\n",
       " -18219.23828125,\n",
       " -19654.876953125,\n",
       " -21060.310546875,\n",
       " -22426.67578125,\n",
       " -23760.546875,\n",
       " -25069.240234375,\n",
       " -26375.130859375,\n",
       " -27669.162109375,\n",
       " -28964.365234375,\n",
       " -30213.2734375,\n",
       " -31479.865234375,\n",
       " -32724.697265625,\n",
       " -33965.890625,\n",
       " -35193.60546875,\n",
       " -36410.6796875,\n",
       " -37597.46875,\n",
       " -38765.421875,\n",
       " -39924.7734375,\n",
       " -41075.33203125,\n",
       " -42244.78125,\n",
       " -43364.09375,\n",
       " -44485.33203125,\n",
       " -45584.390625,\n",
       " -46708.26171875,\n",
       " -47784.828125,\n",
       " -48847.13671875,\n",
       " -49940.09765625,\n",
       " -50954.4296875,\n",
       " -52029.65625,\n",
       " -53045.2578125,\n",
       " -54049.7265625,\n",
       " -55095.5859375,\n",
       " -56077.96875,\n",
       " -57087.4375,\n",
       " -58045.0546875,\n",
       " -59056.91015625,\n",
       " -59999.4375,\n",
       " -60926.62109375,\n",
       " -61910.50390625,\n",
       " -62802.67578125,\n",
       " -63765.8828125,\n",
       " -64657.9921875,\n",
       " -65541.09375,\n",
       " -66481.109375,\n",
       " -67344.0,\n",
       " -68249.6875,\n",
       " -69094.1875,\n",
       " -69996.578125,\n",
       " -70821.625,\n",
       " -71655.0390625,\n",
       " -72529.109375,\n",
       " -73330.234375,\n",
       " -74168.4765625,\n",
       " -74984.34375,\n",
       " -75820.265625,\n",
       " -76589.828125,\n",
       " -77350.8515625,\n",
       " -78158.7421875,\n",
       " -78932.1015625,\n",
       " -79726.984375,\n",
       " -80455.90625,\n",
       " -81231.03125,\n",
       " -81947.1640625,\n",
       " -82713.1015625,\n",
       " -83464.6015625,\n",
       " -84158.53125,\n",
       " -84882.2265625,\n",
       " -85622.71875,\n",
       " -86347.8046875,\n",
       " -87014.515625,\n",
       " -87673.1875,\n",
       " -88372.53125,\n",
       " -89091.5390625,\n",
       " -89768.4453125,\n",
       " -90400.6484375,\n",
       " -91075.109375,\n",
       " -91772.4765625,\n",
       " -92386.25,\n",
       " -93043.1484375,\n",
       " -93642.5859375,\n",
       " -94287.1640625,\n",
       " -94947.609375,\n",
       " -95580.8359375,\n",
       " -96156.71875,\n",
       " -96777.109375,\n",
       " -97342.5,\n",
       " -97992.5546875,\n",
       " -98593.421875,\n",
       " -99142.9296875,\n",
       " -99723.546875,\n",
       " -100355.40625,\n",
       " -100934.234375,\n",
       " -101463.0859375,\n",
       " -101987.0078125,\n",
       " -102551.125,\n",
       " -103159.5703125,\n",
       " -103713.4453125,\n",
       " -104207.484375,\n",
       " -104750.875,\n",
       " -105343.1796875,\n",
       " -105876.5703125,\n",
       " -106362.0,\n",
       " -106842.7578125,\n",
       " -107360.2421875,\n",
       " -107935.265625,\n",
       " -108444.09375,\n",
       " -108896.875,\n",
       " -109395.1015625,\n",
       " -109957.125,\n",
       " -110446.2421875,\n",
       " -110891.703125,\n",
       " -111333.0703125,\n",
       " -111809.8125,\n",
       " -112352.5703125,\n",
       " -112821.0546875,\n",
       " -113236.9921875,\n",
       " -113696.3515625,\n",
       " -114227.875,\n",
       " -114678.4453125,\n",
       " -115087.59375,\n",
       " -115493.171875,\n",
       " -115932.7890625,\n",
       " -116447.84375,\n",
       " -116879.4609375,\n",
       " -117269.734375,\n",
       " -117685.46875,\n",
       " -118187.265625,\n",
       " -118605.578125,\n",
       " -118979.9375,\n",
       " -119390.96875,\n",
       " -119760.7421875,\n",
       " -120247.5546875,\n",
       " -120647.890625,\n",
       " -121006.2578125,\n",
       " -121399.0625,\n",
       " -121874.4296875,\n",
       " -122252.8828125,\n",
       " -122599.40625,\n",
       " -122977.8359375,\n",
       " -123442.4765625,\n",
       " -123816.1875,\n",
       " -124151.21875,\n",
       " -124482.53125,\n",
       " -124846.265625,\n",
       " -125297.09375,\n",
       " -125654.8203125,\n",
       " -125974.8984375,\n",
       " -126318.6796875,\n",
       " -126760.40625,\n",
       " -127106.9140625,\n",
       " -127413.6796875,\n",
       " -127754.234375,\n",
       " -128186.8125,\n",
       " -128487.21875,\n",
       " -128819.9453125,\n",
       " -129114.3828125,\n",
       " -129439.6875,\n",
       " -129860.015625,\n",
       " -130181.9609375,\n",
       " -130458.4375,\n",
       " -130774.7109375,\n",
       " -131186.328125,\n",
       " -131496.34375,\n",
       " -131770.703125,\n",
       " -132077.109375,\n",
       " -132347.046875]"
      ]
     },
     "execution_count": 472,
     "metadata": {},
     "output_type": "execute_result"
    }
   ],
   "source": [
    "losses"
   ]
  },
  {
   "cell_type": "code",
   "execution_count": null,
   "metadata": {},
   "outputs": [],
   "source": []
  }
 ],
 "metadata": {
  "kernelspec": {
   "display_name": "Python 3 (ipykernel)",
   "language": "python",
   "name": "python3"
  },
  "language_info": {
   "codemirror_mode": {
    "name": "ipython",
    "version": 3
   },
   "file_extension": ".py",
   "mimetype": "text/x-python",
   "name": "python",
   "nbconvert_exporter": "python",
   "pygments_lexer": "ipython3",
   "version": "3.9.7"
  }
 },
 "nbformat": 4,
 "nbformat_minor": 4
}
