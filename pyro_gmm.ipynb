{
 "cells": [
  {
   "cell_type": "code",
   "execution_count": 1,
   "metadata": {},
   "outputs": [],
   "source": [
    "import numpy as np\n",
    "import scanpy as sc\n",
    "import pandas as pd\n",
    "import scipy.stats as stats\n",
    "import matplotlib.pyplot as plt\n",
    "import random\n",
    "from sklearn.neighbors import KernelDensity\n",
    "import scipy\n",
    "import utils\n",
    "import seaborn as sns\n",
    "import sklearn\n",
    "from sklearn.cluster import KMeans"
   ]
  },
  {
   "cell_type": "code",
   "execution_count": 2,
   "metadata": {},
   "outputs": [],
   "source": [
    "from collections import defaultdict\n",
    "import os\n",
    "import logging"
   ]
  },
  {
   "cell_type": "code",
   "execution_count": 3,
   "metadata": {},
   "outputs": [],
   "source": [
    "import pyro\n",
    "import torch"
   ]
  },
  {
   "cell_type": "code",
   "execution_count": 4,
   "metadata": {},
   "outputs": [],
   "source": [
    "import pyro.distributions as dist\n",
    "from pyro import poutine\n",
    "from pyro.infer.autoguide import AutoDelta\n",
    "from pyro.optim import Adam\n",
    "from pyro.infer import SVI, TraceEnum_ELBO, config_enumerate, infer_discrete"
   ]
  },
  {
   "cell_type": "markdown",
   "metadata": {},
   "source": [
    "Load and test infer data"
   ]
  },
  {
   "cell_type": "code",
   "execution_count": 5,
   "metadata": {},
   "outputs": [],
   "source": [
    "infer = pd.read_csv(\"N_infer_full_10.16.21\", index_col=0)"
   ]
  },
  {
   "cell_type": "code",
   "execution_count": 6,
   "metadata": {},
   "outputs": [
    {
     "data": {
      "image/png": "[encoded data removed]",
      "text/plain": [
       "<Figure size 432x216 with 1 Axes>"
      ]
     },
     "metadata": {
      "needs_background": "light"
     },
     "output_type": "display_data"
    }
   ],
   "source": [
    "fig = plt.figure(figsize=(6, 3))\n",
    "gene = np.random.choice(infer.columns, size=1)\n",
    "plt.hist(infer[gene])\n",
    "plt.title(\"Distribution of inferCNV values for \" + gene)\n",
    "plt.show()"
   ]
  },
  {
   "cell_type": "markdown",
   "metadata": {},
   "source": [
    "Set macros and things for pyro"
   ]
  },
  {
   "cell_type": "code",
   "execution_count": 7,
   "metadata": {},
   "outputs": [],
   "source": [
    "smoke_test = ('CI' in os.environ)\n",
    "assert pyro.__version__.startswith('1.8.0')\n",
    "\n",
    "pyro.enable_validation(True)\n",
    "pyro.set_rng_seed(1)\n",
    "logging.basicConfig(format='%(message)s', level=logging.INFO)\n",
    "\n",
    "# Set matplotlib settings\n",
    "%matplotlib inline\n",
    "plt.style.use('default')"
   ]
  },
  {
   "cell_type": "markdown",
   "metadata": {},
   "source": [
    "Subsample from adadata and infer "
   ]
  },
  {
   "cell_type": "code",
   "execution_count": 8,
   "metadata": {},
   "outputs": [],
   "source": [
    "adata = sc.read_h5ad(\"N_ribas310_clones.h5\")"
   ]
  },
  {
   "cell_type": "code",
   "execution_count": 9,
   "metadata": {},
   "outputs": [
    {
     "name": "stderr",
     "output_type": "stream",
     "text": [
      "Trying to set attribute `.uns` of view, copying.\n"
     ]
    }
   ],
   "source": [
    "adata_subsampled, infer_subsampled = utils.format_data(adata, infer, 200, 200)"
   ]
  },
  {
   "cell_type": "code",
   "execution_count": 10,
   "metadata": {},
   "outputs": [
    {
     "data": {
      "text/plain": [
       "(800, 200)"
      ]
     },
     "execution_count": 10,
     "metadata": {},
     "output_type": "execute_result"
    }
   ],
   "source": [
    "infer_subsampled.shape"
   ]
  },
  {
   "cell_type": "code",
   "execution_count": 11,
   "metadata": {},
   "outputs": [],
   "source": [
    "infer_sub_tensor = torch.tensor(infer_subsampled)"
   ]
  },
  {
   "cell_type": "code",
   "execution_count": null,
   "metadata": {},
   "outputs": [],
   "source": []
  },
  {
   "cell_type": "code",
   "execution_count": 12,
   "metadata": {},
   "outputs": [],
   "source": [
    "infer_sub_tensor_small = torch.flatten(infer_sub_tensor).to(torch.float)\n",
    "infer_tensor_big =  torch.flatten(torch.tensor(infer.to_numpy())).to(torch.float)"
   ]
  },
  {
   "cell_type": "code",
   "execution_count": 13,
   "metadata": {},
   "outputs": [
    {
     "data": {
      "text/plain": [
       "torch.Size([214211802])"
      ]
     },
     "execution_count": 13,
     "metadata": {},
     "output_type": "execute_result"
    }
   ],
   "source": [
    "infer_tensor_big.shape"
   ]
  },
  {
   "cell_type": "code",
   "execution_count": 14,
   "metadata": {},
   "outputs": [],
   "source": [
    "data= infer_tensor_big[0:len(infer_tensor_big)//2]"
   ]
  },
  {
   "cell_type": "code",
   "execution_count": 15,
   "metadata": {},
   "outputs": [
    {
     "data": {
      "text/plain": [
       "torch.Size([214211802])"
      ]
     },
     "execution_count": 15,
     "metadata": {},
     "output_type": "execute_result"
    }
   ],
   "source": [
    "infer_tensor_big.shape"
   ]
  },
  {
   "cell_type": "code",
   "execution_count": 16,
   "metadata": {},
   "outputs": [],
   "source": [
    "K = 3  # Fixed number of components.\n",
    "\n",
    "@config_enumerate\n",
    "def model(data):\n",
    "    # Global variables.\n",
    "    weights = pyro.sample('weights', dist.Dirichlet(0.5 * torch.ones(K)))\n",
    "    scale = pyro.sample('scale', dist.LogNormal(0., 2.))\n",
    "    with pyro.plate('components', K):\n",
    "        locs = pyro.sample('locs', dist.Normal(0., 10.))\n",
    "\n",
    "    with pyro.plate('data', len(data)):\n",
    "        # Local variables.\n",
    "        assignment = pyro.sample('assignment', dist.Categorical(weights))\n",
    "        pyro.sample('obs', dist.Normal(locs[assignment], scale), obs=data)"
   ]
  },
  {
   "cell_type": "code",
   "execution_count": 17,
   "metadata": {},
   "outputs": [],
   "source": [
    "optim = pyro.optim.Adam({'lr': 0.1, 'betas': [0.8, 0.99]})\n",
    "elbo = TraceEnum_ELBO(max_plate_nesting=1)"
   ]
  },
  {
   "cell_type": "code",
   "execution_count": 18,
   "metadata": {},
   "outputs": [
    {
     "name": "stdout",
     "output_type": "stream",
     "text": [
      "seed = 0, initial_loss = -33554422.0\n"
     ]
    }
   ],
   "source": [
    "def init_loc_fn(site):\n",
    "    if site[\"name\"] == \"weights\":\n",
    "        # Initialize weights to uniform.\n",
    "        return torch.ones(K) / K\n",
    "    if site[\"name\"] == \"scale\":\n",
    "        return (data.var() / 2).sqrt()\n",
    "    if site[\"name\"] == \"locs\":\n",
    "        return torch.tensor([.9,1.01,1.2])\n",
    "    raise ValueError(site[\"name\"])\n",
    "\n",
    "def initialize(seed):\n",
    "    global global_guide, svi\n",
    "    pyro.set_rng_seed(seed)\n",
    "    pyro.clear_param_store()\n",
    "    global_guide = AutoDelta(poutine.block(model, expose=['weights', 'locs', 'scale']),\n",
    "                             init_loc_fn=init_loc_fn)\n",
    "    svi = SVI(model, global_guide, optim, loss=elbo)\n",
    "    return svi.loss(model, global_guide, data)\n",
    "\n",
    "# Choose the best among 100 random initializations.\n",
    "loss, seed = min((initialize(seed), seed) for seed in range(100))\n",
    "initialize(seed)\n",
    "print('seed = {}, initial_loss = {}'.format(seed, loss))"
   ]
  },
  {
   "cell_type": "code",
   "execution_count": 19,
   "metadata": {},
   "outputs": [
    {
     "data": {
      "text/plain": [
       "tensor(0.0449)"
      ]
     },
     "execution_count": 19,
     "metadata": {},
     "output_type": "execute_result"
    }
   ],
   "source": [
    "(infer_sub_tensor_small.var() / 2).sqrt()"
   ]
  },
  {
   "cell_type": "code",
   "execution_count": null,
   "metadata": {},
   "outputs": [],
   "source": []
  },
  {
   "cell_type": "code",
   "execution_count": null,
   "metadata": {},
   "outputs": [
    {
     "name": "stdout",
     "output_type": "stream",
     "text": [
      "\n",
      "....................................."
     ]
    }
   ],
   "source": [
    "# Register hooks to monitor gradient norms.\n",
    "gradient_norms = defaultdict(list)\n",
    "for name, value in pyro.get_param_store().named_parameters():\n",
    "    value.register_hook(lambda g, name=name: gradient_norms[name].append(g.norm().item()))\n",
    "\n",
    "losses = []\n",
    "for i in range(200 if not smoke_test else 2):\n",
    "    loss = svi.step(data)\n",
    "    losses.append(loss)\n",
    "    print('.' if i % 100 else '\\n', end='')"
   ]
  },
  {
   "cell_type": "code",
   "execution_count": 123,
   "metadata": {},
   "outputs": [
    {
     "name": "stderr",
     "output_type": "stream",
     "text": [
      "<ipython-input-123-e6072454b426>:5: UserWarning: Data has no positive values, and therefore cannot be log-scaled.\n",
      "  plt.yscale('log')\n"
     ]
    },
    {
     "data": {
      "image/png": "[encoded data removed]",
      "text/plain": [
       "<Figure size 1000x300 with 1 Axes>"
      ]
     },
     "metadata": {},
     "output_type": "display_data"
    }
   ],
   "source": [
    "plt.figure(figsize=(10,3), dpi=100).set_facecolor('white')\n",
    "plt.plot(losses)\n",
    "plt.xlabel('iters')\n",
    "plt.ylabel('loss')\n",
    "plt.yscale('log')\n",
    "plt.title('Convergence of SVI');"
   ]
  },
  {
   "cell_type": "code",
   "execution_count": 124,
   "metadata": {},
   "outputs": [
    {
     "data": {
      "text/plain": [
       "[-26077.666015625,\n",
       " -6333.28564453125,\n",
       " -7769.66552734375,\n",
       " -24756.185546875,\n",
       " -20480.76953125,\n",
       " -20146.97265625,\n",
       " -22185.244140625,\n",
       " -24199.42578125,\n",
       " -25527.2890625,\n",
       " -25383.50390625,\n",
       " -25105.841796875,\n",
       " -25607.41796875,\n",
       " -26045.908203125,\n",
       " -25856.740234375,\n",
       " -25511.26171875,\n",
       " -25541.810546875,\n",
       " -25966.978515625,\n",
       " -26317.02734375,\n",
       " -26320.873046875,\n",
       " -26250.380859375,\n",
       " -26389.900390625,\n",
       " -26529.908203125,\n",
       " -26485.70703125,\n",
       " -26438.98828125,\n",
       " -26506.125,\n",
       " -26537.419921875,\n",
       " -26495.5625,\n",
       " -26496.171875,\n",
       " -26534.78125,\n",
       " -26523.46875,\n",
       " -26509.591796875,\n",
       " -26525.05078125,\n",
       " -26533.7578125,\n",
       " -26519.08984375,\n",
       " -26539.46875,\n",
       " -26539.962890625,\n",
       " -26538.501953125,\n",
       " -26536.451171875,\n",
       " -26544.9140625,\n",
       " -26541.865234375,\n",
       " -26541.166015625,\n",
       " -26539.462890625,\n",
       " -26546.66015625,\n",
       " -26547.359375,\n",
       " -26544.0625,\n",
       " -26548.271484375,\n",
       " -26549.701171875,\n",
       " -26540.310546875,\n",
       " -26543.01953125,\n",
       " -26539.990234375,\n",
       " -26549.41796875,\n",
       " -26546.59765625,\n",
       " -26548.5078125,\n",
       " -26542.296875,\n",
       " -26543.23046875,\n",
       " -26542.27734375,\n",
       " -26540.08984375,\n",
       " -26541.1484375,\n",
       " -26543.498046875,\n",
       " -26541.337890625,\n",
       " -26541.57421875,\n",
       " -26546.7734375,\n",
       " -26547.326171875,\n",
       " -26559.32421875,\n",
       " -26573.30859375,\n",
       " -26595.123046875,\n",
       " -26646.61328125,\n",
       " -26712.421875,\n",
       " -26798.181640625,\n",
       " -26934.802734375,\n",
       " -27180.27734375,\n",
       " -27621.359375,\n",
       " -28203.6171875,\n",
       " -28691.568359375,\n",
       " -28975.107421875,\n",
       " -29213.23046875,\n",
       " -29441.962890625,\n",
       " -29393.31640625,\n",
       " -29272.49609375,\n",
       " -29303.2734375,\n",
       " -29205.634765625,\n",
       " -29245.248046875,\n",
       " -29260.126953125,\n",
       " -29097.88671875,\n",
       " -28772.1015625,\n",
       " -28462.908203125,\n",
       " -28917.072265625,\n",
       " -29320.466796875,\n",
       " -29139.697265625,\n",
       " -29133.4375,\n",
       " -29383.67578125,\n",
       " -29456.966796875,\n",
       " -29327.673828125,\n",
       " -29152.837890625,\n",
       " -29039.923828125,\n",
       " -29013.576171875,\n",
       " -29116.22265625,\n",
       " -29301.58984375,\n",
       " -29451.021484375,\n",
       " -29458.69140625,\n",
       " -29392.546875,\n",
       " -29367.64453125,\n",
       " -29420.193359375,\n",
       " -29471.728515625,\n",
       " -29466.38671875,\n",
       " -29444.3984375,\n",
       " -29426.533203125,\n",
       " -29433.82421875,\n",
       " -29443.88671875,\n",
       " -29447.810546875,\n",
       " -29463.32421875,\n",
       " -29471.5234375,\n",
       " -29474.46875,\n",
       " -29476.435546875,\n",
       " -29478.767578125,\n",
       " -29478.25,\n",
       " -29474.2265625,\n",
       " -29481.806640625,\n",
       " -29481.421875,\n",
       " -29475.201171875,\n",
       " -29469.748046875,\n",
       " -29480.59375,\n",
       " -29469.322265625,\n",
       " -29457.828125,\n",
       " -29437.384765625,\n",
       " -29387.125,\n",
       " -29234.26171875,\n",
       " -28845.365234375,\n",
       " -28082.6171875,\n",
       " -27544.94921875,\n",
       " -28426.162109375,\n",
       " -29362.31640625,\n",
       " -28768.92578125,\n",
       " -28915.8515625,\n",
       " -29387.994140625,\n",
       " -29095.62109375,\n",
       " -29094.001953125,\n",
       " -29412.73828125,\n",
       " -29400.1015625,\n",
       " -29215.654296875,\n",
       " -29213.80078125,\n",
       " -29350.828125,\n",
       " -29471.255859375,\n",
       " -29448.84765625,\n",
       " -29389.701171875,\n",
       " -29393.212890625,\n",
       " -29444.892578125,\n",
       " -29469.6171875,\n",
       " -29468.244140625,\n",
       " -29449.580078125,\n",
       " -29436.412109375,\n",
       " -29458.443359375,\n",
       " -29467.1015625,\n",
       " -29474.0078125,\n",
       " -29469.24609375,\n",
       " -29472.63671875,\n",
       " -29464.61328125,\n",
       " -29460.431640625,\n",
       " -29470.40234375,\n",
       " -29460.642578125,\n",
       " -29474.763671875,\n",
       " -29475.685546875,\n",
       " -29471.05078125,\n",
       " -29480.748046875,\n",
       " -29479.837890625,\n",
       " -29478.388671875,\n",
       " -29479.17578125,\n",
       " -29473.759765625,\n",
       " -29476.759765625,\n",
       " -29472.439453125,\n",
       " -29475.814453125,\n",
       " -29467.505859375,\n",
       " -29468.51953125,\n",
       " -29444.958984375,\n",
       " -29399.548828125,\n",
       " -29298.373046875,\n",
       " -29068.791015625,\n",
       " -28600.708984375,\n",
       " -27952.447265625,\n",
       " -27989.677734375,\n",
       " -28982.59765625,\n",
       " -29287.755859375,\n",
       " -28783.35546875,\n",
       " -29051.275390625,\n",
       " -29412.77734375,\n",
       " -29194.390625,\n",
       " -29015.7578125,\n",
       " -29163.22265625,\n",
       " -29378.94921875,\n",
       " -29471.576171875,\n",
       " -29427.900390625,\n",
       " -29346.880859375,\n",
       " -29314.896484375,\n",
       " -29357.494140625,\n",
       " -29429.0546875,\n",
       " -29466.916015625,\n",
       " -29468.904296875,\n",
       " -29444.78515625,\n",
       " -29426.134765625,\n",
       " -29419.390625]"
      ]
     },
     "execution_count": 124,
     "metadata": {},
     "output_type": "execute_result"
    }
   ],
   "source": [
    "losses"
   ]
  },
  {
   "cell_type": "code",
   "execution_count": 125,
   "metadata": {},
   "outputs": [
    {
     "data": {
      "text/plain": [
       "dict_items([('AutoDelta.weights', Parameter containing:\n",
       "tensor([-0.3182, -2.2372, -1.4873], requires_grad=True)), ('AutoDelta.scale', Parameter containing:\n",
       "tensor(-3.1854, requires_grad=True)), ('AutoDelta.locs', Parameter containing:\n",
       "tensor([0.9889, 1.1556, 0.9887], requires_grad=True))])"
      ]
     },
     "execution_count": 125,
     "metadata": {},
     "output_type": "execute_result"
    }
   ],
   "source": [
    "pyro.get_param_store().named_parameters()"
   ]
  },
  {
   "cell_type": "code",
   "execution_count": 126,
   "metadata": {},
   "outputs": [
    {
     "name": "stdout",
     "output_type": "stream",
     "text": [
      "0.7274572824079982\n",
      "0.10675700589862087\n",
      "0.22598198393255894\n"
     ]
    }
   ],
   "source": [
    "for weight in [-0.3182, -2.2372, -1.4873]:\n",
    "    print(np.exp(weight))"
   ]
  },
  {
   "cell_type": "code",
   "execution_count": 127,
   "metadata": {},
   "outputs": [
    {
     "data": {
      "text/plain": [
       "1.060196272239178"
      ]
     },
     "execution_count": 127,
     "metadata": {},
     "output_type": "execute_result"
    }
   ],
   "source": [
    "np.sum(np.exp([-0.3182, -2.2372, -1.4873]))"
   ]
  },
  {
   "cell_type": "code",
   "execution_count": null,
   "metadata": {},
   "outputs": [],
   "source": []
  }
 ],
 "metadata": {
  "kernelspec": {
   "display_name": "Python 3",
   "language": "python",
   "name": "python3"
  },
  "language_info": {
   "codemirror_mode": {
    "name": "ipython",
    "version": 3
   },
   "file_extension": ".py",
   "mimetype": "text/x-python",
   "name": "python",
   "nbconvert_exporter": "python",
   "pygments_lexer": "ipython3",
   "version": "3.8.3"
  }
 },
 "nbformat": 4,
 "nbformat_minor": 4
}
